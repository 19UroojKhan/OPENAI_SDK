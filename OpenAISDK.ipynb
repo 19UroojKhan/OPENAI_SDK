{
 "cells": [
  {
   "cell_type": "markdown",
   "metadata": {},
   "source": [
    "# Adventure in Agentic AI"
   ]
  },
  {
   "cell_type": "code",
   "execution_count": 1,
   "metadata": {},
   "outputs": [],
   "source": [
    "# First let's do an import\n",
    "from dotenv import load_dotenv\n"
   ]
  },
  {
   "cell_type": "code",
   "execution_count": 2,
   "metadata": {},
   "outputs": [
    {
     "data": {
      "text/plain": [
       "True"
      ]
     },
     "execution_count": 2,
     "metadata": {},
     "output_type": "execute_result"
    }
   ],
   "source": [
    "# load the API keys into environment variables\n",
    "\n",
    "load_dotenv(override=True)"
   ]
  },
  {
   "cell_type": "code",
   "execution_count": 3,
   "metadata": {},
   "outputs": [
    {
     "name": "stdout",
     "output_type": "stream",
     "text": [
      "OpenAI API Key exists and begins sk-proj-\n"
     ]
    }
   ],
   "source": [
    "# Check the keys\n",
    "\n",
    "import os\n",
    "openai_api_key = os.getenv('OPENAI_API_KEY')\n",
    "\n",
    "if openai_api_key:\n",
    "    print(f\"OpenAI API Key exists and begins {openai_api_key[:8]}\")\n",
    "else:\n",
    "    print(\"OpenAI API Key not set - please head to the troubleshooting guide in the setup folder\")\n",
    "    \n"
   ]
  },
  {
   "cell_type": "code",
   "execution_count": 5,
   "metadata": {},
   "outputs": [],
   "source": [
    "# And now - the all important import statement\n",
    "# If you get an import error - head over to troubleshooting guide\n",
    "\n",
    "from openai import OpenAI"
   ]
  },
  {
   "cell_type": "code",
   "execution_count": 6,
   "metadata": {},
   "outputs": [],
   "source": [
    "#  create an instance of the OpenAI class\n",
    "\n",
    "\n",
    "openai = OpenAI()"
   ]
  },
  {
   "cell_type": "code",
   "execution_count": 7,
   "metadata": {},
   "outputs": [],
   "source": [
    "# Create a list of messages in the familiar OpenAI format\n",
    "\n",
    "messages = [{\"role\": \"user\", \"content\": \"What is 2+2?\"}]"
   ]
  },
  {
   "cell_type": "code",
   "execution_count": 8,
   "metadata": {},
   "outputs": [
    {
     "name": "stdout",
     "output_type": "stream",
     "text": [
      "2 + 2 equals 4.\n"
     ]
    }
   ],
   "source": [
    "\n",
    "# This uses GPT 4.1 nano, the incredibly cheap model\n",
    "\n",
    "response = openai.chat.completions.create(\n",
    "    model=\"gpt-4.1-nano\",\n",
    "    messages=messages\n",
    ")\n",
    "\n",
    "print(response.choices[0].message.content)\n"
   ]
  },
  {
   "cell_type": "code",
   "execution_count": 9,
   "metadata": {},
   "outputs": [],
   "source": [
    "# let's ask for a question:\n",
    "\n",
    "question = \"Please propose a hard, challenging question to assess someone's IQ. Respond only with the question.\"\n",
    "messages = [{\"role\": \"user\", \"content\": question}]\n"
   ]
  },
  {
   "cell_type": "code",
   "execution_count": 10,
   "metadata": {},
   "outputs": [
    {
     "name": "stdout",
     "output_type": "stream",
     "text": [
      "A cube has a side length of 3 units. A sphere is inscribed inside the cube, touching all its faces. Another cube is inscribed inside this sphere, with its edges parallel to the original cube. What is the ratio of the volume of the smaller inscribed cube to the volume of the original cube?\n"
     ]
    }
   ],
   "source": [
    "# ask it - this uses GPT 4.1 mini, still cheap but more powerful than nano\n",
    "\n",
    "response = openai.chat.completions.create(\n",
    "    model=\"gpt-4.1-mini\",\n",
    "    messages=messages\n",
    ")\n",
    "\n",
    "question = response.choices[0].message.content\n",
    "\n",
    "print(question)\n"
   ]
  },
  {
   "cell_type": "code",
   "execution_count": 11,
   "metadata": {},
   "outputs": [],
   "source": [
    "# form a new messages list\n",
    "messages = [{\"role\": \"user\", \"content\": question}]\n"
   ]
  },
  {
   "cell_type": "code",
   "execution_count": 12,
   "metadata": {},
   "outputs": [
    {
     "name": "stdout",
     "output_type": "stream",
     "text": [
      "Let's analyze the problem step-by-step.\n",
      "\n",
      "---\n",
      "\n",
      "### Given:\n",
      "- Original cube side length: \\( s = 3 \\) units\n",
      "- A sphere is inscribed inside this cube: the sphere touches all faces of the cube\n",
      "- Another cube is inscribed inside this sphere, edges parallel to the original cube\n",
      "\n",
      "---\n",
      "\n",
      "### Step 1: Characteristics of the sphere inscribed inside the original cube\n",
      "\n",
      "- Since the sphere is inscribed inside the cube, it touches all faces.\n",
      "- The diameter of the sphere equals the side length of the cube.\n",
      "\n",
      "\\[\n",
      "\\text{Diameter of sphere} = s = 3\n",
      "\\]\n",
      "\n",
      "Therefore, the radius \\( r \\) of the sphere is:\n",
      "\n",
      "\\[\n",
      "r = \\frac{s}{2} = \\frac{3}{2} = 1.5\n",
      "\\]\n",
      "\n",
      "---\n",
      "\n",
      "### Step 2: Dimensions of the smaller cube inscribed inside the sphere\n",
      "\n",
      "- The smaller cube is inscribed inside the sphere.\n",
      "- Its edges are parallel to the original cube.\n",
      "- The sphere is the circumscribed sphere for the smaller cube.\n",
      "\n",
      "For a cube inscribed inside a sphere, the sphere's radius equals half the cube's space diagonal.\n",
      "\n",
      "If the smaller cube has side length \\( x \\), then its space diagonal is:\n",
      "\n",
      "\\[\n",
      "d = x \\sqrt{3}\n",
      "\\]\n",
      "\n",
      "This diagonal equals the diameter of the sphere:\n",
      "\n",
      "\\[\n",
      "d = 2r = 3\n",
      "\\]\n",
      "\n",
      "Therefore,\n",
      "\n",
      "\\[\n",
      "x \\sqrt{3} = 3 \\implies x = \\frac{3}{\\sqrt{3}} = \\sqrt{3}\n",
      "\\]\n",
      "\n",
      "---\n",
      "\n",
      "### Step 3: Find the ratio of volumes\n",
      "\n",
      "- Volume of the original cube:\n",
      "\n",
      "\\[\n",
      "V_{\\text{original}} = s^3 = 3^3 = 27\n",
      "\\]\n",
      "\n",
      "- Volume of the smaller cube:\n",
      "\n",
      "\\[\n",
      "V_{\\text{small}} = x^3 = (\\sqrt{3})^3 = 3^{\\frac{3}{2}} = 3 \\times \\sqrt{3} = 3\\sqrt{3}\n",
      "\\]\n",
      "\n",
      "- Ratio of volumes:\n",
      "\n",
      "\\[\n",
      "\\frac{V_{\\text{small}}}{V_{\\text{original}}} = \\frac{3\\sqrt{3}}{27} = \\frac{\\sqrt{3}}{9}\n",
      "\\]\n",
      "\n",
      "---\n",
      "\n",
      "### Final answer:\n",
      "\n",
      "\\[\n",
      "\\boxed{\\frac{\\sqrt{3}}{9}}\n",
      "\\]\n",
      "\n",
      "---\n",
      "\n",
      "**Thus, the ratio of the smaller cube's volume to the original cube's volume is \\(\\frac{\\sqrt{3}}{9}\\).**\n"
     ]
    }
   ],
   "source": [
    "# Ask it again\n",
    "\n",
    "response = openai.chat.completions.create(\n",
    "    model=\"gpt-4.1-mini\",\n",
    "    messages=messages\n",
    ")\n",
    "\n",
    "answer = response.choices[0].message.content\n",
    "print(answer)\n"
   ]
  },
  {
   "cell_type": "code",
   "execution_count": 14,
   "metadata": {},
   "outputs": [
    {
     "data": {
      "text/markdown": [
       "Let's analyze the problem step-by-step:\n",
       "\n",
       "- Given: 5 machines take 5 minutes to make 5 widgets.\n",
       "- Goal: Find out how long 100 machines take to make 100 widgets.\n",
       "\n",
       "**Step 1: Determine the rate of one machine.**\n",
       "\n",
       "If 5 machines take 5 minutes to make 5 widgets, then:\n",
       "\n",
       "- Total widgets made = 5 widgets\n",
       "- Total machines = 5 machines\n",
       "- Total time = 5 minutes\n",
       "\n",
       "The total machine-minutes = number of machines × time = 5 × 5 = 25 machine-minutes.\n",
       "\n",
       "Thus, 25 machine-minutes produce 5 widgets.\n",
       "\n",
       "Therefore, 1 widget takes \\( \\frac{25}{5} = 5 \\) machine-minutes.\n",
       "\n",
       "Since this is per widget, one widget requires 5 machine-minutes.\n",
       "\n",
       "**Step 2: Find how long 100 machines take to make 100 widgets.**\n",
       "\n",
       "Total machine-minutes needed for 100 widgets = 100 widgets × 5 machine-minutes/widget = 500 machine-minutes.\n",
       "\n",
       "Since there are 100 machines working simultaneously, time taken = total machine-minutes ÷ number of machines\n",
       "\n",
       "= \\( \\frac{500}{100} = 5 \\) minutes.\n",
       "\n",
       "**Answer:**\n",
       "\n",
       "It would take **5 minutes** for 100 machines to make 100 widgets."
      ],
      "text/plain": [
       "<IPython.core.display.Markdown object>"
      ]
     },
     "metadata": {},
     "output_type": "display_data"
    }
   ],
   "source": [
    "from IPython.display import Markdown, display\n",
    "\n",
    "display(Markdown(answer))\n",
    "\n"
   ]
  },
  {
   "cell_type": "markdown",
   "metadata": {},
   "source": []
  }
 ],
 "metadata": {
  "kernelspec": {
   "display_name": ".venv",
   "language": "python",
   "name": "python3"
  },
  "language_info": {
   "codemirror_mode": {
    "name": "ipython",
    "version": 3
   },
   "file_extension": ".py",
   "mimetype": "text/x-python",
   "name": "python",
   "nbconvert_exporter": "python",
   "pygments_lexer": "ipython3",
   "version": "3.12.2"
  }
 },
 "nbformat": 4,
 "nbformat_minor": 2
}
